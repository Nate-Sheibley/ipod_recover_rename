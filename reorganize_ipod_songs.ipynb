{
 "cells": [
  {
   "cell_type": "code",
   "execution_count": 25,
   "metadata": {},
   "outputs": [
    {
     "name": "stdout",
     "output_type": "stream",
     "text": [
      "\u001b[1;31merror\u001b[0m: \u001b[1mexternally-managed-environment\u001b[0m\n",
      "\n",
      "\u001b[31m×\u001b[0m This environment is externally managed\n",
      "\u001b[31m╰─>\u001b[0m To install Python packages system-wide, try 'pacman -S\n",
      "\u001b[31m   \u001b[0m python-xyz', where xyz is the package you are trying to\n",
      "\u001b[31m   \u001b[0m install.\n",
      "\u001b[31m   \u001b[0m \n",
      "\u001b[31m   \u001b[0m If you wish to install a non-Arch-packaged Python package,\n",
      "\u001b[31m   \u001b[0m create a virtual environment using 'python -m venv path/to/venv'.\n",
      "\u001b[31m   \u001b[0m Then use path/to/venv/bin/python and path/to/venv/bin/pip.\n",
      "\u001b[31m   \u001b[0m \n",
      "\u001b[31m   \u001b[0m If you wish to install a non-Arch packaged Python application,\n",
      "\u001b[31m   \u001b[0m it may be easiest to use 'pipx install xyz', which will manage a\n",
      "\u001b[31m   \u001b[0m virtual environment for you. Make sure you have python-pipx\n",
      "\u001b[31m   \u001b[0m installed via pacman.\n",
      "\n",
      "\u001b[1;35mnote\u001b[0m: If you believe this is a mistake, please contact your Python installation or OS distribution provider. You can override this, at the risk of breaking your Python installation or OS, by passing --break-system-packages.\n",
      "\u001b[1;36mhint\u001b[0m: See PEP 668 for the detailed specification.\n"
     ]
    }
   ],
   "source": [
    "!pip install mutagen"
   ]
  },
  {
   "cell_type": "code",
   "execution_count": 26,
   "metadata": {},
   "outputs": [],
   "source": [
    "import pathlib\n",
    "import os\n",
    "import mutagen\n",
    "\n",
    "import itertools\n",
    "import shutil\n"
   ]
  },
  {
   "cell_type": "code",
   "execution_count": 27,
   "metadata": {},
   "outputs": [
    {
     "name": "stdout",
     "output_type": "stream",
     "text": [
      "Path is project root\n"
     ]
    }
   ],
   "source": [
    "cwd = pathlib.Path.cwd()\n",
    "\n",
    "if cwd.name == 'ipod_recover_rename':\n",
    "    print(\"Path is project root\")\n",
    "else:\n",
    "    print('Current Working Directory is:', cwd)\n",
    "    print(\"Recomend navigating to the project root in terminal and opening your chosen idea via the command 'code .'\")\n",
    "    raise NameError('Please correct current working directory to the project root')\n"
   ]
  },
  {
   "cell_type": "code",
   "execution_count": 28,
   "metadata": {},
   "outputs": [],
   "source": [
    "old_path = cwd / \"Music\"\n",
    "after_path = cwd / \"After\""
   ]
  },
  {
   "cell_type": "code",
   "execution_count": 65,
   "metadata": {},
   "outputs": [],
   "source": [
    "if not os.path.exists(after_path): \n",
    "    # if the After directory is not present  \n",
    "    # then create it. \n",
    "    os.makedirs(after_path) "
   ]
  },
  {
   "cell_type": "code",
   "execution_count": null,
   "metadata": {},
   "outputs": [],
   "source": [
    "f_list = os.listdir(old_path)\n",
    "# copies music to after folder for processing of a copy of the music, ensuring no loss\n",
    "for file in f_list:\n",
    "    # prevents copying of the hidden files associated with ituns and ipods\n",
    "    if file.startswith('._'):\n",
    "        pass\n",
    "    else:\n",
    "        shutil.copytree(old_path / file, after_path / file)\n"
   ]
  },
  {
   "cell_type": "code",
   "execution_count": 51,
   "metadata": {},
   "outputs": [],
   "source": [
    "# https://stackoverflow.com/questions/17547273/flatten-complex-directory-structure-in-python\n",
    "#Move all files from music to (created) intermediary\n",
    "def move(destination):\n",
    "    all_files = []\n",
    "    first_loop_pass = True\n",
    "    for root, _dirs, files in os.walk(destination):\n",
    "        if first_loop_pass:\n",
    "            first_loop_pass = False\n",
    "            continue\n",
    "        for filename in files:\n",
    "            all_files.append(os.path.join(root, filename))\n",
    "    for filename in all_files:\n",
    "        shutil.move(filename, destination)"
   ]
  },
  {
   "cell_type": "code",
   "execution_count": 52,
   "metadata": {},
   "outputs": [],
   "source": [
    "move(after_path)"
   ]
  },
  {
   "cell_type": "code",
   "execution_count": 59,
   "metadata": {},
   "outputs": [],
   "source": [
    "walk = list(os.walk(after_path))\n",
    "for path, _, _ in walk[::]:\n",
    "    if len(os.listdir(path)) == 0:\n",
    "        # remove empty directories\n",
    "        os.removedirs(path)\n"
   ]
  },
  {
   "cell_type": "code",
   "execution_count": 63,
   "metadata": {},
   "outputs": [],
   "source": [
    "test_mp3 = after_path / 'CUYL.mp3'\n",
    "test_m4a = after_path / 'XWHW.m4a'\n",
    "test_m4p = after_path / 'DMZZ.m4p'\n",
    "test_flac = after_path / 'ASCS.flac'\n",
    "test_wav = after_path / 'GSDE.wav'\n",
    "test_wma = after_path / 'AFES.wma'\n",
    "\n",
    "test_files = [test_mp3,test_m4a,test_m4p,test_flac,test_wav,test_wma]"
   ]
  },
  {
   "cell_type": "code",
   "execution_count": 64,
   "metadata": {},
   "outputs": [
    {
     "name": "stdout",
     "output_type": "stream",
     "text": [
      ".mp3\n",
      ".m4a\n",
      ".m4p\n",
      ".flac\n",
      ".wav\n",
      ".wma\n"
     ]
    }
   ],
   "source": [
    "for file in test_files:\n",
    "    try:\n",
    "        file_ext = file.suffix\n",
    "        print(file_ext)\n",
    "    except:\n",
    "        print(file, \"did not work\")"
   ]
  },
  {
   "cell_type": "code",
   "execution_count": null,
   "metadata": {},
   "outputs": [],
   "source": []
  }
 ],
 "metadata": {
  "kernelspec": {
   "display_name": ".venv",
   "language": "python",
   "name": "python3"
  },
  "language_info": {
   "codemirror_mode": {
    "name": "ipython",
    "version": 3
   },
   "file_extension": ".py",
   "mimetype": "text/x-python",
   "name": "python",
   "nbconvert_exporter": "python",
   "pygments_lexer": "ipython3",
   "version": "3.12.9"
  }
 },
 "nbformat": 4,
 "nbformat_minor": 2
}
