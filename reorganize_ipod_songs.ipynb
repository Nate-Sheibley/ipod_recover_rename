{
 "cells": [
  {
   "cell_type": "code",
   "execution_count": 1,
   "metadata": {},
   "outputs": [
    {
     "name": "stdout",
     "output_type": "stream",
     "text": [
      "/home/mox/Documents/coding_projects/personal_projects/ipod_recover_rename/.venv/bin/pip: line 2: /home/mox/Documents/coding_projects/personal projects/ipod_recover_rename/.venv/bin/python: No such file or directory\n"
     ]
    }
   ],
   "source": [
    "!pip install mutagen"
   ]
  },
  {
   "cell_type": "code",
   "execution_count": 98,
   "metadata": {},
   "outputs": [],
   "source": [
    "import pathlib\n",
    "import os\n",
    "\n",
    "import mutagen as mg\n",
    "from mutagen.id3 import ID3\n",
    "import base64\n",
    "from mutagen.oggvorbis import OggVorbis\n",
    "\n",
    "import itertools\n",
    "import shutil\n"
   ]
  },
  {
   "cell_type": "code",
   "execution_count": 3,
   "metadata": {},
   "outputs": [
    {
     "name": "stdout",
     "output_type": "stream",
     "text": [
      "Path is project root\n"
     ]
    }
   ],
   "source": [
    "cwd = pathlib.Path.cwd()\n",
    "\n",
    "if cwd.name == 'ipod_recover_rename':\n",
    "    print(\"Path is project root\")\n",
    "else:\n",
    "    print('Current Working Directory is:', cwd)\n",
    "    print(\"Recomend navigating to the project root in terminal and opening your chosen idea via the command 'code .'\")\n",
    "    raise NameError('Please correct current working directory to the project root')\n"
   ]
  },
  {
   "cell_type": "code",
   "execution_count": 4,
   "metadata": {},
   "outputs": [],
   "source": [
    "old_path = cwd / \"Music\"\n",
    "after_path = cwd / \"After\""
   ]
  },
  {
   "cell_type": "code",
   "execution_count": 5,
   "metadata": {},
   "outputs": [],
   "source": [
    "if not os.path.exists(after_path): \n",
    "    # if the After directory is not present  \n",
    "    # then create it. \n",
    "    os.makedirs(after_path) "
   ]
  },
  {
   "cell_type": "code",
   "execution_count": 6,
   "metadata": {},
   "outputs": [],
   "source": [
    "f_list = os.listdir(old_path)\n",
    "# copies music to after folder for processing of a copy of the music, ensuring no loss\n",
    "for file in f_list:\n",
    "    # prevents copying of the hidden files associated with ituns and ipods\n",
    "    if file.startswith('._'):\n",
    "        pass\n",
    "    else:\n",
    "        shutil.copytree(old_path / file, after_path / file)\n"
   ]
  },
  {
   "cell_type": "code",
   "execution_count": 7,
   "metadata": {},
   "outputs": [],
   "source": [
    "# https://stackoverflow.com/questions/17547273/flatten-complex-directory-structure-in-python\n",
    "#Move all files from music to (created) intermediary\n",
    "def move(destination):\n",
    "    all_files = []\n",
    "    first_loop_pass = True\n",
    "    for root, _dirs, files in os.walk(destination):\n",
    "        if first_loop_pass:\n",
    "            first_loop_pass = False\n",
    "            continue\n",
    "        for filename in files:\n",
    "            all_files.append(os.path.join(root, filename))\n",
    "    for filename in all_files:\n",
    "        shutil.move(filename, destination)"
   ]
  },
  {
   "cell_type": "code",
   "execution_count": 8,
   "metadata": {},
   "outputs": [],
   "source": [
    "move(after_path)"
   ]
  },
  {
   "cell_type": "code",
   "execution_count": 9,
   "metadata": {},
   "outputs": [],
   "source": [
    "walk = list(os.walk(after_path))\n",
    "for path, _, _ in walk[::]:\n",
    "    if len(os.listdir(path)) == 0:\n",
    "        # remove empty directories\n",
    "        os.removedirs(path)\n"
   ]
  },
  {
   "cell_type": "code",
   "execution_count": 86,
   "metadata": {},
   "outputs": [],
   "source": [
    "test_mp3 = after_path / 'CUYL.mp3'\n",
    "test_m4a = after_path / 'XWHW.m4a'\n",
    "test_m4p = after_path / 'DMZZ.m4p'\n",
    "test_flac = after_path / 'ASCS.flac'\n",
    "test_wav = after_path / 'GSDE.wav'\n",
    "test_wma = after_path / 'AFES.wma'\n",
    "test_move = after_path / 'tree_test.mp3'\n",
    "\n",
    "test_files = [test_mp3, test_m4a, test_m4p, test_flac, test_wav, test_wma, test_move]"
   ]
  },
  {
   "cell_type": "code",
   "execution_count": null,
   "metadata": {},
   "outputs": [],
   "source": [
    "# List all file types for appropriate parsing\n",
    "compatible_types = {\n",
    "    'id3': ('.mp3', '.wav'),\n",
    "    'flac' : ('.flac'),\n",
    "    'other': ('.m4a', '.m4p', '.wma',)\n",
    "    #TODO: add support for other using mugagen tag readers schemes\n",
    "}\n",
    "\n",
    "\n",
    "#Potential restructure. Set sucessful = false. iterate across via try_id3(), try_APEv2() functions until a successful return.\n",
    "def get_rename_dict(file):\n",
    "    file_ext = file.suffix\n",
    "    file_path = after_path / file\n",
    "    f = mg.File(file_path)\n",
    "    #handle ID3 compatible filetypes\n",
    "    if file_ext in compatible_types['id3']:\n",
    "        # Not stritly id3, but picks up on id3 and less strict id3 formats\n",
    "        id3_file = mg.File(file_path)\n",
    "        return {'artist':f['TPE1'].text[0],\n",
    "                'album':f['TALB'].text[0],\n",
    "                'title':f['TIT2'].text[0]}\n",
    "    # handle flac\n",
    "    if file_ext in compatible_types['flac']:\n",
    "        flac_file = mg.flac.FLAC(file_path)\n",
    "        # these tags are capitalization agnostic\n",
    "        return {'artist':f['Artist'][0],\n",
    "                'album':f['Album'][0],\n",
    "                'title':f['Title'][0]}\n",
    "\n",
    "    #TODO add suport for others in compatible types dict\n",
    "    "
   ]
  },
  {
   "cell_type": "code",
   "execution_count": 130,
   "metadata": {},
   "outputs": [],
   "source": [
    "def move_and_rename(file, name_dict):\n",
    "    name_dict = get_rename_dict(after_path / file) \n",
    "    # build folder and file paths\n",
    "    artist_path = after_path / name_dict['artist']\n",
    "    album_path = artist_path /  name_dict['album']\n",
    "    title = name_dict['title']\n",
    "    # check if album-artist folder paths exist, if not make them.\n",
    "    # if artist folder DNE, make it\n",
    "    if not os.path.isdir(artist_path):\n",
    "        os.mkdir(artist_path)\n",
    "    # if album folder DNE, make it\n",
    "    if not os.path.isdir(album_path):\n",
    "        os.mkdir(album_path)\n",
    "    # move the song to the album-artist folder and rename it\n",
    "    shutil.move(after_path / file, album_path / title)"
   ]
  },
  {
   "cell_type": "code",
   "execution_count": 131,
   "metadata": {},
   "outputs": [
    {
     "name": "stdout",
     "output_type": "stream",
     "text": [
      "CUYL.mp3 successfull\n",
      "XWHW.m4a did not work .m4a is likely unsupported\n",
      "DMZZ.m4p did not work .m4p is likely unsupported\n",
      "ASCS.flac successfull\n",
      "GSDE.wav successfull\n",
      "AFES.wma did not work .wma is likely unsupported\n",
      "tree_test.mp3 successfull\n"
     ]
    }
   ],
   "source": [
    "for file in test_files:\n",
    "    try:\n",
    "        name_dict = get_rename_dict(file) \n",
    "        move_and_rename(file, name_dict)\n",
    "        print(file.name, 'successfull')\n",
    "    except:\n",
    "        print(file.name, \"did not work\", file.suffix, \"is likely unsupported\")"
   ]
  },
  {
   "cell_type": "markdown",
   "metadata": {},
   "source": [
    "TODO: \n",
    "\n",
    "1. rename files to artist_album_title.ext\n",
    "2. Add files to artist-album-song structure\n",
    "    1. walk file list and make [artist, album, title.ext]\n",
    "    2. check if artist-album folders exist, make them if DNE \n",
    "    3. rename to title.ext and move to appropriate folder tree"
   ]
  },
  {
   "cell_type": "code",
   "execution_count": 125,
   "metadata": {},
   "outputs": [
    {
     "name": "stdout",
     "output_type": "stream",
     "text": [
      "{'artist': 'The Beatles', 'album': 'Rubber Soul', 'title': 'Drive My Car'}\n"
     ]
    },
    {
     "ename": "MutagenError",
     "evalue": "[Errno 2] No such file or directory: '/home/mox/Documents/coding_projects/personal_projects/ipod_recover_rename/After/tree_test.mp3'",
     "output_type": "error",
     "traceback": [
      "\u001b[31m---------------------------------------------------------------------------\u001b[39m",
      "\u001b[31mFileNotFoundError\u001b[39m                         Traceback (most recent call last)",
      "\u001b[36mFile \u001b[39m\u001b[32m~/Documents/coding_projects/personal_projects/ipod_recover_rename/.venv/lib/python3.12/site-packages/mutagen/_util.py:251\u001b[39m, in \u001b[36m_openfile\u001b[39m\u001b[34m(instance, filething, filename, fileobj, writable, create)\u001b[39m\n\u001b[32m    250\u001b[39m \u001b[38;5;28;01mtry\u001b[39;00m:\n\u001b[32m--> \u001b[39m\u001b[32m251\u001b[39m     fileobj = \u001b[38;5;28;43mopen\u001b[39;49m\u001b[43m(\u001b[49m\u001b[43mfilename\u001b[49m\u001b[43m,\u001b[49m\u001b[43m \u001b[49m\u001b[33;43m\"\u001b[39;49m\u001b[33;43mrb+\u001b[39;49m\u001b[33;43m\"\u001b[39;49m\u001b[43m \u001b[49m\u001b[38;5;28;43;01mif\u001b[39;49;00m\u001b[43m \u001b[49m\u001b[43mwritable\u001b[49m\u001b[43m \u001b[49m\u001b[38;5;28;43;01melse\u001b[39;49;00m\u001b[43m \u001b[49m\u001b[33;43m\"\u001b[39;49m\u001b[33;43mrb\u001b[39;49m\u001b[33;43m\"\u001b[39;49m\u001b[43m)\u001b[49m\n\u001b[32m    252\u001b[39m \u001b[38;5;28;01mexcept\u001b[39;00m \u001b[38;5;167;01mIOError\u001b[39;00m \u001b[38;5;28;01mas\u001b[39;00m e:\n",
      "\u001b[31mFileNotFoundError\u001b[39m: [Errno 2] No such file or directory: '/home/mox/Documents/coding_projects/personal_projects/ipod_recover_rename/After/tree_test.mp3'",
      "\nDuring handling of the above exception, another exception occurred:\n",
      "\u001b[31mMutagenError\u001b[39m                              Traceback (most recent call last)",
      "\u001b[36mCell\u001b[39m\u001b[36m \u001b[39m\u001b[32mIn[125]\u001b[39m\u001b[32m, line 2\u001b[39m\n\u001b[32m      1\u001b[39m name_dict = get_rename_dict(test_flac) \n\u001b[32m----> \u001b[39m\u001b[32m2\u001b[39m \u001b[43mmove_and_rename\u001b[49m\u001b[43m(\u001b[49m\u001b[43mfile\u001b[49m\u001b[43m,\u001b[49m\u001b[43m \u001b[49m\u001b[43mname_dict\u001b[49m\u001b[43m)\u001b[49m\n\u001b[32m      3\u001b[39m \u001b[38;5;28mprint\u001b[39m(file.name, \u001b[33m'\u001b[39m\u001b[33msuccessfull\u001b[39m\u001b[33m'\u001b[39m)\n",
      "\u001b[36mCell\u001b[39m\u001b[36m \u001b[39m\u001b[32mIn[101]\u001b[39m\u001b[32m, line 2\u001b[39m, in \u001b[36mmove_and_rename\u001b[39m\u001b[34m(file, name_dict)\u001b[39m\n\u001b[32m      1\u001b[39m \u001b[38;5;28;01mdef\u001b[39;00m\u001b[38;5;250m \u001b[39m\u001b[34mmove_and_rename\u001b[39m(file, name_dict):\n\u001b[32m----> \u001b[39m\u001b[32m2\u001b[39m     name_dict = \u001b[43mget_rename_dict\u001b[49m\u001b[43m(\u001b[49m\u001b[43mafter_path\u001b[49m\u001b[43m \u001b[49m\u001b[43m/\u001b[49m\u001b[43m \u001b[49m\u001b[43mfile\u001b[49m\u001b[43m)\u001b[49m \n\u001b[32m      3\u001b[39m     \u001b[38;5;66;03m# build folder and file paths\u001b[39;00m\n\u001b[32m      4\u001b[39m     artist_path = after_path / name_dict[\u001b[33m'\u001b[39m\u001b[33martist\u001b[39m\u001b[33m'\u001b[39m]\n",
      "\u001b[36mCell\u001b[39m\u001b[36m \u001b[39m\u001b[32mIn[124]\u001b[39m\u001b[32m, line 15\u001b[39m, in \u001b[36mget_rename_dict\u001b[39m\u001b[34m(file)\u001b[39m\n\u001b[32m     12\u001b[39m \u001b[38;5;66;03m#handle ID3 compatible filetypes\u001b[39;00m\n\u001b[32m     13\u001b[39m \u001b[38;5;28;01mif\u001b[39;00m file_ext \u001b[38;5;129;01min\u001b[39;00m compatible_types[\u001b[33m'\u001b[39m\u001b[33mid3\u001b[39m\u001b[33m'\u001b[39m]:\n\u001b[32m     14\u001b[39m     \u001b[38;5;66;03m# Not stritly id3, but picks up on id3 and less strict id3 formats\u001b[39;00m\n\u001b[32m---> \u001b[39m\u001b[32m15\u001b[39m     id3_file = \u001b[43mmg\u001b[49m\u001b[43m.\u001b[49m\u001b[43mFile\u001b[49m\u001b[43m(\u001b[49m\u001b[43mfile_path\u001b[49m\u001b[43m)\u001b[49m\n\u001b[32m     16\u001b[39m     \u001b[38;5;28;01mreturn\u001b[39;00m {\u001b[33m'\u001b[39m\u001b[33martist\u001b[39m\u001b[33m'\u001b[39m:id3_file[\u001b[33m'\u001b[39m\u001b[33mTPE1\u001b[39m\u001b[33m'\u001b[39m].text[\u001b[32m0\u001b[39m],\n\u001b[32m     17\u001b[39m             \u001b[33m'\u001b[39m\u001b[33malbum\u001b[39m\u001b[33m'\u001b[39m:id3_file[\u001b[33m'\u001b[39m\u001b[33mTALB\u001b[39m\u001b[33m'\u001b[39m].text[\u001b[32m0\u001b[39m],\n\u001b[32m     18\u001b[39m             \u001b[33m'\u001b[39m\u001b[33mtitle\u001b[39m\u001b[33m'\u001b[39m:id3_file[\u001b[33m'\u001b[39m\u001b[33mTIT2\u001b[39m\u001b[33m'\u001b[39m].text[\u001b[32m0\u001b[39m]}\n\u001b[32m     19\u001b[39m \u001b[38;5;28;01mif\u001b[39;00m file_ext \u001b[38;5;129;01min\u001b[39;00m compatible_types[\u001b[33m'\u001b[39m\u001b[33mflac\u001b[39m\u001b[33m'\u001b[39m]:\n",
      "\u001b[36mFile \u001b[39m\u001b[32m~/Documents/coding_projects/personal_projects/ipod_recover_rename/.venv/lib/python3.12/site-packages/mutagen/_util.py:162\u001b[39m, in \u001b[36mloadfile.<locals>.wrap.<locals>.wrapper_func\u001b[39m\u001b[34m(*args, **kwargs)\u001b[39m\n\u001b[32m    158\u001b[39m \u001b[38;5;129m@wraps\u001b[39m(func)\n\u001b[32m    159\u001b[39m \u001b[38;5;28;01mdef\u001b[39;00m\u001b[38;5;250m \u001b[39m\u001b[34mwrapper_func\u001b[39m(*args, **kwargs):\n\u001b[32m    160\u001b[39m     filething, filename, fileobj, args, kwargs = \\\n\u001b[32m    161\u001b[39m         convert_file_args(args, kwargs)\n\u001b[32m--> \u001b[39m\u001b[32m162\u001b[39m \u001b[43m    \u001b[49m\u001b[38;5;28;43;01mwith\u001b[39;49;00m\u001b[43m \u001b[49m\u001b[43m_openfile\u001b[49m\u001b[43m(\u001b[49m\u001b[38;5;28;43;01mNone\u001b[39;49;00m\u001b[43m,\u001b[49m\u001b[43m \u001b[49m\u001b[43mfilething\u001b[49m\u001b[43m,\u001b[49m\u001b[43m \u001b[49m\u001b[43mfilename\u001b[49m\u001b[43m,\u001b[49m\u001b[43m \u001b[49m\u001b[43mfileobj\u001b[49m\u001b[43m,\u001b[49m\n\u001b[32m    163\u001b[39m \u001b[43m                   \u001b[49m\u001b[43mwritable\u001b[49m\u001b[43m,\u001b[49m\u001b[43m \u001b[49m\u001b[43mcreate\u001b[49m\u001b[43m)\u001b[49m\u001b[43m \u001b[49m\u001b[38;5;28;43;01mas\u001b[39;49;00m\u001b[43m \u001b[49m\u001b[43mh\u001b[49m\u001b[43m:\u001b[49m\n\u001b[32m    164\u001b[39m \u001b[43m        \u001b[49m\u001b[38;5;28;43;01mreturn\u001b[39;49;00m\u001b[43m \u001b[49m\u001b[43mfunc\u001b[49m\u001b[43m(\u001b[49m\u001b[43mh\u001b[49m\u001b[43m,\u001b[49m\u001b[43m \u001b[49m\u001b[43m*\u001b[49m\u001b[43margs\u001b[49m\u001b[43m,\u001b[49m\u001b[43m \u001b[49m\u001b[43m*\u001b[49m\u001b[43m*\u001b[49m\u001b[43mkwargs\u001b[49m\u001b[43m)\u001b[49m\n",
      "\u001b[36mFile \u001b[39m\u001b[32m/usr/lib/python3.12/contextlib.py:137\u001b[39m, in \u001b[36m_GeneratorContextManager.__enter__\u001b[39m\u001b[34m(self)\u001b[39m\n\u001b[32m    135\u001b[39m \u001b[38;5;28;01mdel\u001b[39;00m \u001b[38;5;28mself\u001b[39m.args, \u001b[38;5;28mself\u001b[39m.kwds, \u001b[38;5;28mself\u001b[39m.func\n\u001b[32m    136\u001b[39m \u001b[38;5;28;01mtry\u001b[39;00m:\n\u001b[32m--> \u001b[39m\u001b[32m137\u001b[39m     \u001b[38;5;28;01mreturn\u001b[39;00m \u001b[38;5;28;43mnext\u001b[39;49m\u001b[43m(\u001b[49m\u001b[38;5;28;43mself\u001b[39;49m\u001b[43m.\u001b[49m\u001b[43mgen\u001b[49m\u001b[43m)\u001b[49m\n\u001b[32m    138\u001b[39m \u001b[38;5;28;01mexcept\u001b[39;00m \u001b[38;5;167;01mStopIteration\u001b[39;00m:\n\u001b[32m    139\u001b[39m     \u001b[38;5;28;01mraise\u001b[39;00m \u001b[38;5;167;01mRuntimeError\u001b[39;00m(\u001b[33m\"\u001b[39m\u001b[33mgenerator didn\u001b[39m\u001b[33m'\u001b[39m\u001b[33mt yield\u001b[39m\u001b[33m\"\u001b[39m) \u001b[38;5;28;01mfrom\u001b[39;00m\u001b[38;5;250m \u001b[39m\u001b[38;5;28;01mNone\u001b[39;00m\n",
      "\u001b[36mFile \u001b[39m\u001b[32m~/Documents/coding_projects/personal_projects/ipod_recover_rename/.venv/lib/python3.12/site-packages/mutagen/_util.py:272\u001b[39m, in \u001b[36m_openfile\u001b[39m\u001b[34m(instance, filething, filename, fileobj, writable, create)\u001b[39m\n\u001b[32m    270\u001b[39m             \u001b[38;5;28;01mraise\u001b[39;00m MutagenError(e2)\n\u001b[32m    271\u001b[39m     \u001b[38;5;28;01melse\u001b[39;00m:\n\u001b[32m--> \u001b[39m\u001b[32m272\u001b[39m         \u001b[38;5;28;01mraise\u001b[39;00m MutagenError(e)\n\u001b[32m    274\u001b[39m \u001b[38;5;28;01mwith\u001b[39;00m fileobj \u001b[38;5;28;01mas\u001b[39;00m fileobj:\n\u001b[32m    275\u001b[39m     \u001b[38;5;28;01myield\u001b[39;00m FileThing(fileobj, filename, filename)\n",
      "\u001b[31mMutagenError\u001b[39m: [Errno 2] No such file or directory: '/home/mox/Documents/coding_projects/personal_projects/ipod_recover_rename/After/tree_test.mp3'"
     ]
    }
   ],
   "source": [
    "name_dict = get_rename_dict(test_flac) \n",
    "move_and_rename(file, name_dict)\n",
    "print(file.name, 'successfull')"
   ]
  },
  {
   "cell_type": "code",
   "execution_count": null,
   "metadata": {},
   "outputs": [],
   "source": []
  }
 ],
 "metadata": {
  "kernelspec": {
   "display_name": ".venv",
   "language": "python",
   "name": "python3"
  },
  "language_info": {
   "codemirror_mode": {
    "name": "ipython",
    "version": 3
   },
   "file_extension": ".py",
   "mimetype": "text/x-python",
   "name": "python",
   "nbconvert_exporter": "python",
   "pygments_lexer": "ipython3",
   "version": "3.12.9"
  }
 },
 "nbformat": 4,
 "nbformat_minor": 2
}
