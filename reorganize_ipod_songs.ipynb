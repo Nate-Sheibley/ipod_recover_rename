{
 "cells": [
  {
   "cell_type": "code",
   "execution_count": 15,
   "metadata": {},
   "outputs": [
    {
     "name": "stdout",
     "output_type": "stream",
     "text": [
      "Requirement already satisfied: mutagen in ./.venv/lib/python3.12/site-packages (1.47.0)\n",
      "Requirement already satisfied: tinytag in ./.venv/lib/python3.12/site-packages (2.1.0)\n"
     ]
    }
   ],
   "source": [
    "!pip install mutagen tinytag"
   ]
  },
  {
   "cell_type": "code",
   "execution_count": 1,
   "metadata": {},
   "outputs": [],
   "source": [
    "import pathlib\n",
    "import os\n",
    "import re\n",
    "\n",
    "from tinytag import TinyTag\n",
    "\n",
    "import shutil\n"
   ]
  },
  {
   "cell_type": "code",
   "execution_count": 2,
   "metadata": {},
   "outputs": [
    {
     "name": "stdout",
     "output_type": "stream",
     "text": [
      "Path is project root\n"
     ]
    }
   ],
   "source": [
    "cwd = pathlib.Path.cwd()\n",
    "\n",
    "if cwd.name == 'ipod_recover_rename':\n",
    "    print(\"Path is project root\")\n",
    "else:\n",
    "    print('Current Working Directory is:', cwd)\n",
    "    print(\"Recomend navigating to the project root in terminal and opening your chosen idea via the command 'code .'\")\n",
    "    raise NameError('Please correct current working directory to the project root')\n"
   ]
  },
  {
   "cell_type": "code",
   "execution_count": 3,
   "metadata": {},
   "outputs": [],
   "source": [
    "old_path = cwd / \"Music\"\n",
    "after_path = cwd / \"After\""
   ]
  },
  {
   "cell_type": "code",
   "execution_count": 4,
   "metadata": {},
   "outputs": [],
   "source": [
    "if not os.path.exists(after_path): \n",
    "    # if the After directory is not present  \n",
    "    # then create it. \n",
    "    os.makedirs(after_path) "
   ]
  },
  {
   "cell_type": "code",
   "execution_count": null,
   "metadata": {},
   "outputs": [],
   "source": [
    "#TODO: Add support for flattened data\n",
    "    # currently. this and move_flatten() only work if there is folder structure\n",
    "    # potentially out of scope because ipod has folder structure always\n",
    "f_list = os.listdir(old_path)\n",
    "# copies music to after folder for processing of a copy of the music, ensuring no loss\n",
    "for file in f_list:\n",
    "    # prevents copying of the hidden files associated with ituns and ipods\n",
    "    if file.startswith('._'):\n",
    "        pass\n",
    "    else:\n",
    "        shutil.copytree(old_path / file, after_path / file)\n",
    "\n"
   ]
  },
  {
   "cell_type": "code",
   "execution_count": 5,
   "metadata": {},
   "outputs": [],
   "source": [
    "# https://stackoverflow.com/questions/17547273/flatten-complex-directory-structure-in-python\n",
    "#Move all files from music to (created) intermediary\n",
    "def move_flatten(destination):\n",
    "    all_files = []\n",
    "    first_loop_pass = True\n",
    "    for root, _dirs, files in os.walk(destination):\n",
    "        if first_loop_pass:\n",
    "            first_loop_pass = False\n",
    "            continue\n",
    "        for filename in files:\n",
    "            all_files.append(os.path.join(root, filename))\n",
    "    for filename in all_files:\n",
    "        shutil.move(filename, destination)"
   ]
  },
  {
   "cell_type": "code",
   "execution_count": 9,
   "metadata": {},
   "outputs": [],
   "source": [
    "move_flatten(after_path)"
   ]
  },
  {
   "cell_type": "code",
   "execution_count": 10,
   "metadata": {},
   "outputs": [],
   "source": [
    "walk = list(os.walk(after_path))\n",
    "for path, _, _ in walk[::]:\n",
    "    if len(os.listdir(path)) == 0:\n",
    "        # remove empty directories\n",
    "        os.removedirs(path)\n"
   ]
  },
  {
   "cell_type": "code",
   "execution_count": 11,
   "metadata": {},
   "outputs": [],
   "source": [
    "test_mp3 = after_path / 'CUYL.mp3'\n",
    "test_m4a = after_path / 'XWHW.m4a'\n",
    "test_m4p = after_path / 'DMZZ.m4p'\n",
    "test_flac = after_path / 'ASCS.flac'\n",
    "test_wav = after_path / 'GSDE.wav'\n",
    "test_wma = after_path / 'AFES.wma'\n",
    "\n",
    "test_files = [test_mp3, test_m4a, test_m4p, test_flac, test_wav, test_wma]"
   ]
  },
  {
   "cell_type": "code",
   "execution_count": 12,
   "metadata": {},
   "outputs": [],
   "source": [
    "# Handles names with / \\ liek AC/DC \n",
    "def sanitize_string(file_dir_string):\n",
    "    pattern = r'[/\\\\]'\n",
    "    return re.sub(pattern, \"_\", file_dir_string)"
   ]
  },
  {
   "cell_type": "code",
   "execution_count": 13,
   "metadata": {},
   "outputs": [],
   "source": [
    "def parse_metadata(f):\n",
    "    file_path = after_path / f\n",
    "    file = TinyTag.get(file_path)\n",
    "    \n",
    "    name_dict = {'album':'', 'artist':'', 'title':'', 'ext': ''}\n",
    "    artist = file.artist\n",
    "    album = file.album\n",
    "    title = file.title\n",
    "    suffix = file_path.suffix\n",
    "    \n",
    "    for key, val in zip(['artist', 'album', 'title', 'ext'],[artist, album, title, suffix]):\n",
    "        if val is not None:\n",
    "            name_dict[key] = sanitize_string(val)\n",
    "        else:\n",
    "            name_dict[key] = 'Metadata_DNE'\n",
    "    return name_dict\n",
    "\n"
   ]
  },
  {
   "cell_type": "code",
   "execution_count": 14,
   "metadata": {},
   "outputs": [],
   "source": [
    "def move_and_rename(file, name_dict):\n",
    "    # build folder and file paths\n",
    "    artist_path = after_path / name_dict['artist']\n",
    "    album_path = artist_path /  name_dict['album']\n",
    "    title = name_dict['title']\n",
    "    suffix = name_dict['ext']\n",
    "    # check if album-artist folder paths exist, if not make them.\n",
    "    # if artist folder DNE, make it\n",
    "    if not os.path.isdir(artist_path):\n",
    "        os.mkdir(artist_path)\n",
    "    # if album folder DNE, make it\n",
    "    if not os.path.isdir(album_path):\n",
    "        os.mkdir(album_path)\n",
    "    # move the song to the album-artist folder and rename it\n",
    "    renamed_ordered_path = album_path / f'{title}{suffix}'\n",
    "    shutil.move(after_path / file, renamed_ordered_path)\n",
    "\n",
    "    return renamed_ordered_path"
   ]
  },
  {
   "cell_type": "code",
   "execution_count": null,
   "metadata": {},
   "outputs": [
    {
     "name": "stdout",
     "output_type": "stream",
     "text": [
      "working on 1/1739: AAJM.mp3\n",
      "moved and renamed to: /home/mox/Documents/coding_projects/personal_projects/ipod_recover_rename/After/Pink Floyd/The Wall/Another Brick in the Wall.mp3\n",
      "working on 2/1739: AATL.mp3\n",
      "moved and renamed to: /home/mox/Documents/coding_projects/personal_projects/ipod_recover_rename/After/Led Zeppelin/[Complete Studio Recordings (CD 10)]/Metadata_DNE.mp3\n",
      "working on 3/1739: AAUE.mp3\n",
      "moved and renamed to: /home/mox/Documents/coding_projects/personal_projects/ipod_recover_rename/After/Led Zeppelin/[Complete Studio Recordings (CD 10)]/Metadata_DNE.mp3\n",
      "working on 4/1739: ABMU.mp3\n",
      "moved and renamed to: /home/mox/Documents/coding_projects/personal_projects/ipod_recover_rename/After/Pink Floyd/Dark Side of the Moon/Speak To Me_Breathe.mp3\n",
      "working on 5/1739: ABRK.m4a\n",
      "moved and renamed to: /home/mox/Documents/coding_projects/personal_projects/ipod_recover_rename/After/Metallica/Black Album/Through The Never.m4a\n",
      "working on 6/1739: ABUG.mp3\n",
      "moved and renamed to: /home/mox/Documents/coding_projects/personal_projects/ipod_recover_rename/After/Pink Floyd/Masters of Rock/See Emily Play.mp3\n",
      "working on 7/1739: ACKQ.mp3\n",
      "moved and renamed to: /home/mox/Documents/coding_projects/personal_projects/ipod_recover_rename/After/Led Zeppelin/How The West Was Won [Disc 1]/That's The Way.mp3\n",
      "working on 8/1739: ACWD.mp3\n",
      "moved and renamed to: /home/mox/Documents/coding_projects/personal_projects/ipod_recover_rename/After/Flogging Molly/Metadata_DNE/Black Friday Rule.mp3\n",
      "working on 9/1739: ADLM.mp3\n",
      "moved and renamed to: /home/mox/Documents/coding_projects/personal_projects/ipod_recover_rename/After/Led Zeppelin/Presence/03 Royal Orleans.mp3.mp3\n",
      "working on 10/1739: ADUE.mp3\n",
      "moved and renamed to: /home/mox/Documents/coding_projects/personal_projects/ipod_recover_rename/After/Foo Fighters/In Your Honor/No Way Back.mp3\n",
      "working on 11/1739: AEYR.mp3\n",
      "moved and renamed to: /home/mox/Documents/coding_projects/personal_projects/ipod_recover_rename/After/Lamb Of God/Burn The Priest/Departure Hymn.mp3\n",
      "working on 12/1739: AFEI.mp3\n",
      "moved and renamed to: /home/mox/Documents/coding_projects/personal_projects/ipod_recover_rename/After/Flogging Molly                /                              /Saltydog                      .mp3\n",
      "working on 13/1739: AGBH.m4a\n",
      "moved and renamed to: /home/mox/Documents/coding_projects/personal_projects/ipod_recover_rename/After/Red Hot Chili Peppers/Blood Sugar Sex Magik/Funky Monks.m4a\n",
      "working on 14/1739: AGBN.mp3\n",
      "moved and renamed to: /home/mox/Documents/coding_projects/personal_projects/ipod_recover_rename/After/Altan/Runaway Sunday/I Wish My Love Was A Red, Red Rose.mp3\n",
      "working on 15/1739: AGCI.m4a\n",
      "moved and renamed to: /home/mox/Documents/coding_projects/personal_projects/ipod_recover_rename/After/Slayer/Hell Awaits/Crypts Of Eternity.m4a\n",
      "working on 16/1739: AGDD.m4a\n",
      "moved and renamed to: /home/mox/Documents/coding_projects/personal_projects/ipod_recover_rename/After/George Kahumoku Jr. & Daniel Ho/Island Classics/Beautiful Kaua`i.m4a\n",
      "working on 17/1739: AGFN.mp3\n",
      "moved and renamed to: /home/mox/Documents/coding_projects/personal_projects/ipod_recover_rename/After/Foo Fighters/In Your Honor [Disc 1]/Free Me.mp3\n",
      "working on 18/1739: AHSV.mp3\n",
      "moved and renamed to: /home/mox/Documents/coding_projects/personal_projects/ipod_recover_rename/After/Lamb Of God/Sacrament [Deluxe Edition - CD_DVD]/Forgotten (Lost Angels).mp3\n",
      "working on 19/1739: AHZD.mp3\n",
      "moved and renamed to: /home/mox/Documents/coding_projects/personal_projects/ipod_recover_rename/After/Foo Fighters                  /There Is Nothing Left To Lose /Learn To Fly                  .mp3\n",
      "working on 20/1739: AICS.m4a\n",
      "moved and renamed to: /home/mox/Documents/coding_projects/personal_projects/ipod_recover_rename/After/George Kahumoku Jr. & Daniel Ho/Island Classics/Pearly Shells.m4a\n",
      "working on 21/1739: AIOX.mp3\n",
      "moved and renamed to: /home/mox/Documents/coding_projects/personal_projects/ipod_recover_rename/After/Lamb Of God/Killadelphia/Pariah.mp3\n",
      "working on 22/1739: AISC.m4a\n",
      "moved and renamed to: /home/mox/Documents/coding_projects/personal_projects/ipod_recover_rename/After/Flogging Molly/Within a Mile of Home/Tobacco Island.m4a\n",
      "working on 23/1739: AIVC.mp3\n",
      "moved and renamed to: /home/mox/Documents/coding_projects/personal_projects/ipod_recover_rename/After/Frank Klepacki/Command And Conquer Red Alert 3/The Red Menace.mp3\n",
      "working on 24/1739: AIXX.m4a\n",
      "moved and renamed to: /home/mox/Documents/coding_projects/personal_projects/ipod_recover_rename/After/Metallica/Ride The Lighting/For Whom The Bell Tolls.m4a\n",
      "working on 25/1739: AJPZ.mp3\n",
      "moved and renamed to: /home/mox/Documents/coding_projects/personal_projects/ipod_recover_rename/After/Led Zeppelin/How The West Was Won [Disc 2]/What Is And What Should Never Be.mp3\n",
      "working on 26/1739: AJRF.mp3\n",
      "moved and renamed to: /home/mox/Documents/coding_projects/personal_projects/ipod_recover_rename/After/Lamb Of God/As The Palaces Burn/Vigil.mp3\n",
      "working on 27/1739: AJSR.mp3\n",
      "moved and renamed to: /home/mox/Documents/coding_projects/personal_projects/ipod_recover_rename/After/Led Zeppelin/Coda/01 We're Gonna Groove.mp3.mp3\n",
      "working on 28/1739: AKNX.mp3\n",
      "moved and renamed to: /home/mox/Documents/coding_projects/personal_projects/ipod_recover_rename/After/Foo Fighters/Skin And Bones/Another Round.mp3\n",
      "working on 29/1739: AlbumArt_{0D5E074E-9562-49C9-97DB-C2F787991E56}_Large.jpg\n"
     ]
    },
    {
     "ename": "UnsupportedFormatError",
     "evalue": "No tag reader found to support file type",
     "output_type": "error",
     "traceback": [
      "\u001b[31m---------------------------------------------------------------------------\u001b[39m",
      "\u001b[31mUnsupportedFormatError\u001b[39m                    Traceback (most recent call last)",
      "\u001b[36mCell\u001b[39m\u001b[36m \u001b[39m\u001b[32mIn[15]\u001b[39m\u001b[32m, line 5\u001b[39m\n\u001b[32m      3\u001b[39m \u001b[38;5;28;01mfor\u001b[39;00m file \u001b[38;5;129;01min\u001b[39;00m files:\n\u001b[32m      4\u001b[39m     \u001b[38;5;28mprint\u001b[39m(\u001b[33mf\u001b[39m\u001b[33m'\u001b[39m\u001b[33mworking on \u001b[39m\u001b[38;5;132;01m{\u001b[39;00mcount\u001b[38;5;132;01m}\u001b[39;00m\u001b[33m/\u001b[39m\u001b[38;5;132;01m{\u001b[39;00m\u001b[38;5;28mlen\u001b[39m(files)\u001b[38;5;132;01m}\u001b[39;00m\u001b[33m: \u001b[39m\u001b[38;5;132;01m{\u001b[39;00mfile\u001b[38;5;132;01m}\u001b[39;00m\u001b[33m'\u001b[39m)\n\u001b[32m----> \u001b[39m\u001b[32m5\u001b[39m     name_dict = \u001b[43mparse_metadata\u001b[49m\u001b[43m(\u001b[49m\u001b[43mfile\u001b[49m\u001b[43m)\u001b[49m\n\u001b[32m      6\u001b[39m     new = move_and_rename(file, name_dict)\n\u001b[32m      7\u001b[39m     \u001b[38;5;28mprint\u001b[39m(\u001b[33m'\u001b[39m\u001b[33mmoved and renamed to:\u001b[39m\u001b[33m'\u001b[39m, new)\n",
      "\u001b[36mCell\u001b[39m\u001b[36m \u001b[39m\u001b[32mIn[13]\u001b[39m\u001b[32m, line 3\u001b[39m, in \u001b[36mparse_metadata\u001b[39m\u001b[34m(f)\u001b[39m\n\u001b[32m      1\u001b[39m \u001b[38;5;28;01mdef\u001b[39;00m\u001b[38;5;250m \u001b[39m\u001b[34mparse_metadata\u001b[39m(f):\n\u001b[32m      2\u001b[39m     file_path = after_path / f\n\u001b[32m----> \u001b[39m\u001b[32m3\u001b[39m     file = \u001b[43mTinyTag\u001b[49m\u001b[43m.\u001b[49m\u001b[43mget\u001b[49m\u001b[43m(\u001b[49m\u001b[43mfile_path\u001b[49m\u001b[43m)\u001b[49m\n\u001b[32m      5\u001b[39m     name_dict = {\u001b[33m'\u001b[39m\u001b[33malbum\u001b[39m\u001b[33m'\u001b[39m:\u001b[33m'\u001b[39m\u001b[33m'\u001b[39m, \u001b[33m'\u001b[39m\u001b[33martist\u001b[39m\u001b[33m'\u001b[39m:\u001b[33m'\u001b[39m\u001b[33m'\u001b[39m, \u001b[33m'\u001b[39m\u001b[33mtitle\u001b[39m\u001b[33m'\u001b[39m:\u001b[33m'\u001b[39m\u001b[33m'\u001b[39m, \u001b[33m'\u001b[39m\u001b[33mext\u001b[39m\u001b[33m'\u001b[39m: \u001b[33m'\u001b[39m\u001b[33m'\u001b[39m}\n\u001b[32m      6\u001b[39m     artist = file.artist\n",
      "\u001b[36mFile \u001b[39m\u001b[32m~/Documents/coding_projects/personal_projects/ipod_recover_rename/.venv/lib/python3.12/site-packages/tinytag/tinytag.py:140\u001b[39m, in \u001b[36mTinyTag.get\u001b[39m\u001b[34m(cls, filename, file_obj, tags, duration, image, encoding, ignore_errors)\u001b[39m\n\u001b[32m    138\u001b[39m filesize = file_obj.tell()\n\u001b[32m    139\u001b[39m file_obj.seek(\u001b[32m0\u001b[39m)\n\u001b[32m--> \u001b[39m\u001b[32m140\u001b[39m parser_class = \u001b[38;5;28;43mcls\u001b[39;49m\u001b[43m.\u001b[49m\u001b[43m_get_parser_class\u001b[49m\u001b[43m(\u001b[49m\u001b[43mfilename_str\u001b[49m\u001b[43m,\u001b[49m\u001b[43m \u001b[49m\u001b[43mfile_obj\u001b[49m\u001b[43m)\u001b[49m\n\u001b[32m    141\u001b[39m tag = parser_class()\n\u001b[32m    142\u001b[39m tag._filehandler = file_obj\n",
      "\u001b[36mFile \u001b[39m\u001b[32m~/Documents/coding_projects/personal_projects/ipod_recover_rename/.venv/lib/python3.12/site-packages/tinytag/tinytag.py:252\u001b[39m, in \u001b[36mTinyTag._get_parser_class\u001b[39m\u001b[34m(cls, filename, filehandle)\u001b[39m\n\u001b[32m    250\u001b[39m     \u001b[38;5;28;01mif\u001b[39;00m parser_class \u001b[38;5;129;01mis\u001b[39;00m \u001b[38;5;129;01mnot\u001b[39;00m \u001b[38;5;28;01mNone\u001b[39;00m:\n\u001b[32m    251\u001b[39m         \u001b[38;5;28;01mreturn\u001b[39;00m parser_class\n\u001b[32m--> \u001b[39m\u001b[32m252\u001b[39m \u001b[38;5;28;01mraise\u001b[39;00m UnsupportedFormatError(\n\u001b[32m    253\u001b[39m     \u001b[33m'\u001b[39m\u001b[33mNo tag reader found to support file type\u001b[39m\u001b[33m'\u001b[39m)\n",
      "\u001b[31mUnsupportedFormatError\u001b[39m: No tag reader found to support file type"
     ]
    }
   ],
   "source": [
    "# TODO: Add support for images as album art links\n",
    "files = os.listdir(after_path)\n",
    "count = 1\n",
    "for file in files:\n",
    "    print(f'working on {count}/{len(files)}: {file}')\n",
    "    name_dict = parse_metadata(file)\n",
    "    new = move_and_rename(file, name_dict)\n",
    "    print('moved and renamed to:', new)\n",
    "    count += 1\n",
    "    # TODO: Handle missing metadata"
   ]
  },
  {
   "cell_type": "markdown",
   "metadata": {},
   "source": [
    "TODO: \n",
    "\n",
    "1. rename files to artist_album_title.ext\n",
    "2. Add files to artist-album-song structure\n",
    "    1. walk file list and make [artist, album, title.ext]\n",
    "    2. check if artist-album folders exist, make them if DNE \n",
    "    3. rename to title.ext and move to appropriate folder tree"
   ]
  },
  {
   "cell_type": "code",
   "execution_count": null,
   "metadata": {},
   "outputs": [],
   "source": []
  }
 ],
 "metadata": {
  "kernelspec": {
   "display_name": ".venv",
   "language": "python",
   "name": "python3"
  },
  "language_info": {
   "codemirror_mode": {
    "name": "ipython",
    "version": 3
   },
   "file_extension": ".py",
   "mimetype": "text/x-python",
   "name": "python",
   "nbconvert_exporter": "python",
   "pygments_lexer": "ipython3",
   "version": "3.12.9"
  }
 },
 "nbformat": 4,
 "nbformat_minor": 2
}
