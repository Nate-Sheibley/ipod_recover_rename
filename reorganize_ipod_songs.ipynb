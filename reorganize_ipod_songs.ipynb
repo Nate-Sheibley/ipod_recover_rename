{
 "cells": [
  {
   "cell_type": "code",
   "execution_count": 21,
   "metadata": {},
   "outputs": [
    {
     "name": "stdout",
     "output_type": "stream",
     "text": [
      "Requirement already satisfied: mutagen in ./.venv/lib/python3.12/site-packages (1.47.0)\n",
      "Requirement already satisfied: tinytag in ./.venv/lib/python3.12/site-packages (2.1.0)\n"
     ]
    }
   ],
   "source": [
    "!pip install mutagen tinytag"
   ]
  },
  {
   "cell_type": "code",
   "execution_count": 47,
   "metadata": {},
   "outputs": [],
   "source": [
    "import pathlib\n",
    "import os\n",
    "import re\n",
    "\n",
    "import mutagen as mg\n",
    "from mutagen.id3 import ID3\n",
    "import base64\n",
    "from mutagen.oggvorbis import OggVorbis\n",
    "\n",
    "from tinytag import TinyTag\n",
    "\n",
    "import itertools\n",
    "import shutil\n"
   ]
  },
  {
   "cell_type": "code",
   "execution_count": 23,
   "metadata": {},
   "outputs": [
    {
     "name": "stdout",
     "output_type": "stream",
     "text": [
      "Path is project root\n"
     ]
    }
   ],
   "source": [
    "cwd = pathlib.Path.cwd()\n",
    "\n",
    "if cwd.name == 'ipod_recover_rename':\n",
    "    print(\"Path is project root\")\n",
    "else:\n",
    "    print('Current Working Directory is:', cwd)\n",
    "    print(\"Recomend navigating to the project root in terminal and opening your chosen idea via the command 'code .'\")\n",
    "    raise NameError('Please correct current working directory to the project root')\n"
   ]
  },
  {
   "cell_type": "code",
   "execution_count": 24,
   "metadata": {},
   "outputs": [],
   "source": [
    "old_path = cwd / \"Music\"\n",
    "after_path = cwd / \"After\""
   ]
  },
  {
   "cell_type": "code",
   "execution_count": 25,
   "metadata": {},
   "outputs": [],
   "source": [
    "if not os.path.exists(after_path): \n",
    "    # if the After directory is not present  \n",
    "    # then create it. \n",
    "    os.makedirs(after_path) "
   ]
  },
  {
   "cell_type": "code",
   "execution_count": 26,
   "metadata": {},
   "outputs": [],
   "source": [
    "f_list = os.listdir(old_path)\n",
    "# copies music to after folder for processing of a copy of the music, ensuring no loss\n",
    "for file in f_list:\n",
    "    # prevents copying of the hidden files associated with ituns and ipods\n",
    "    if file.startswith('._'):\n",
    "        pass\n",
    "    else:\n",
    "        shutil.copytree(old_path / file, after_path / file)\n"
   ]
  },
  {
   "cell_type": "code",
   "execution_count": 27,
   "metadata": {},
   "outputs": [],
   "source": [
    "# https://stackoverflow.com/questions/17547273/flatten-complex-directory-structure-in-python\n",
    "#Move all files from music to (created) intermediary\n",
    "def move_flatten(destination):\n",
    "    all_files = []\n",
    "    first_loop_pass = True\n",
    "    for root, _dirs, files in os.walk(destination):\n",
    "        if first_loop_pass:\n",
    "            first_loop_pass = False\n",
    "            continue\n",
    "        for filename in files:\n",
    "            all_files.append(os.path.join(root, filename))\n",
    "    for filename in all_files:\n",
    "        shutil.move(filename, destination)"
   ]
  },
  {
   "cell_type": "code",
   "execution_count": 28,
   "metadata": {},
   "outputs": [],
   "source": [
    "move_flatten(after_path)"
   ]
  },
  {
   "cell_type": "code",
   "execution_count": 29,
   "metadata": {},
   "outputs": [],
   "source": [
    "walk = list(os.walk(after_path))\n",
    "for path, _, _ in walk[::]:\n",
    "    if len(os.listdir(path)) == 0:\n",
    "        # remove empty directories\n",
    "        os.removedirs(path)\n"
   ]
  },
  {
   "cell_type": "code",
   "execution_count": 30,
   "metadata": {},
   "outputs": [],
   "source": [
    "test_mp3 = after_path / 'CUYL.mp3'\n",
    "test_m4a = after_path / 'XWHW.m4a'\n",
    "test_m4p = after_path / 'DMZZ.m4p'\n",
    "test_flac = after_path / 'ASCS.flac'\n",
    "test_wav = after_path / 'GSDE.wav'\n",
    "test_wma = after_path / 'AFES.wma'\n",
    "\n",
    "test_files = [test_mp3, test_m4a, test_m4p, test_flac, test_wav, test_wma]"
   ]
  },
  {
   "cell_type": "code",
   "execution_count": null,
   "metadata": {},
   "outputs": [],
   "source": [
    "# Handles names with / \\ liek AC/DC \n",
    "def sanitize_string(file_dir_string):\n",
    "    pattern = r'[/\\\\]'\n",
    "    return re.sub(pattern, \"_\", file_dir_string)"
   ]
  },
  {
   "cell_type": "code",
   "execution_count": 54,
   "metadata": {},
   "outputs": [],
   "source": [
    "def parse_metadata(f):\n",
    "    file_path = after_path / f\n",
    "    file = TinyTag.get(file_path)\n",
    "\n",
    "    name_dict = {'album':'', 'artist':'', 'title':'', 'ext': ''}\n",
    "    name_dict['artist'] = sanitize_string(file.artist)\n",
    "    name_dict['album'] =  sanitize_string(file.album)\n",
    "    name_dict['title'] = sanitize_string(file.title)\n",
    "    name_dict['ext'] = file_path.suffix\n",
    "\n",
    "    return name_dict\n",
    "\n"
   ]
  },
  {
   "cell_type": "code",
   "execution_count": 34,
   "metadata": {},
   "outputs": [],
   "source": [
    "def move_and_rename(file, name_dict):\n",
    "    # build folder and file paths\n",
    "    artist_path = after_path / name_dict['artist']\n",
    "    album_path = artist_path /  name_dict['album']\n",
    "    title = name_dict['title']\n",
    "    suffix = name_dict['ext']\n",
    "    # check if album-artist folder paths exist, if not make them.\n",
    "    # if artist folder DNE, make it\n",
    "    if not os.path.isdir(artist_path):\n",
    "        os.mkdir(artist_path)\n",
    "    # if album folder DNE, make it\n",
    "    if not os.path.isdir(album_path):\n",
    "        os.mkdir(album_path)\n",
    "    # move the song to the album-artist folder and rename it\n",
    "    renamed_ordered_path = album_path / f'{title}{suffix}'\n",
    "    shutil.move(after_path / file, renamed_ordered_path)\n",
    "\n",
    "    return renamed_ordered_path"
   ]
  },
  {
   "cell_type": "code",
   "execution_count": 55,
   "metadata": {},
   "outputs": [
    {
     "name": "stdout",
     "output_type": "stream",
     "text": [
      "working on 1/580: ARMA.m4a\n",
      "moved and renamed to: /home/mox/Documents/coding_projects/personal_projects/ipod_recover_rename/After/AC_DC/AC_DC Live: Collector's Edition [Disc 1]/Fire Your Guns [Live].m4a\n",
      "working on 2/580: EUCU.m4a\n",
      "moved and renamed to: /home/mox/Documents/coding_projects/personal_projects/ipod_recover_rename/After/Al Green/Al Green Explores Your Mind/The City.m4a\n",
      "working on 3/580: WUWG.mp3\n",
      "moved and renamed to: /home/mox/Documents/coding_projects/personal_projects/ipod_recover_rename/After/ANDRE NICKATINA & MAC DRE /TALE OF 2 ANDRES/OUTTA CONTROL.mp3\n",
      "working on 4/580: CWQG.m4a\n",
      "moved and renamed to: /home/mox/Documents/coding_projects/personal_projects/ipod_recover_rename/After/AC*DC/Powerage/Sin City.m4a\n",
      "working on 5/580: FSUV.m4a\n",
      "moved and renamed to: /home/mox/Documents/coding_projects/personal_projects/ipod_recover_rename/After/Behemoth/Demigod+Satanica/Track 07.m4a\n",
      "working on 6/580: FMGI.m4a\n",
      "moved and renamed to: /home/mox/Documents/coding_projects/personal_projects/ipod_recover_rename/After/Cellski/Its that nigga celly cell/Track 07.m4a\n",
      "working on 7/580: JHRL.mp3\n",
      "moved and renamed to: /home/mox/Documents/coding_projects/personal_projects/ipod_recover_rename/After/Creedence Clearwater Revival/The Best of Creedence Clearwater Revival (1 of 2)/Lodi.mp3\n",
      "working on 8/580: TJTV.mp3\n",
      "moved and renamed to: /home/mox/Documents/coding_projects/personal_projects/ipod_recover_rename/After/Creedence Clearwater Revival/The Best of Creedence Clearwater Revival (2 of 2)/I Put a Spell on You.mp3\n",
      "working on 9/580: WAAB.mp3\n",
      "moved and renamed to: /home/mox/Documents/coding_projects/personal_projects/ipod_recover_rename/After/Creedence Clearwater Revival/Chronicle/Proud Mary.mp3\n",
      "working on 10/580: WQIB.mp3\n",
      "moved and renamed to: /home/mox/Documents/coding_projects/personal_projects/ipod_recover_rename/After/Creedence Clearwater Revival/Chronicle Volume Two/Before You Accuse Me.mp3\n",
      "working on 11/580: NUCU.mp3\n",
      "moved and renamed to: /home/mox/Documents/coding_projects/personal_projects/ipod_recover_rename/After/Del The Funky Homosapien/Future Development/Corner Story.mp3\n",
      "working on 12/580: UZXA.mp3\n",
      "moved and renamed to: /home/mox/Documents/coding_projects/personal_projects/ipod_recover_rename/After/Del The Funky Homosapien/3030/Positive Contact.mp3\n",
      "working on 13/580: YQUC.mp3\n",
      "moved and renamed to: /home/mox/Documents/coding_projects/personal_projects/ipod_recover_rename/After/ANDRE NICKATINA & MAC DRE /TALE OF 2 ANDRES/DRUG LUV.mp3\n",
      "working on 14/580: BHSJ.m4a\n",
      "moved and renamed to: /home/mox/Documents/coding_projects/personal_projects/ipod_recover_rename/After/Big Tone/Rootz Of All Evil (Explicit)/Late Night Creepin.m4a\n",
      "working on 15/580: VIOC.m4a\n",
      "moved and renamed to: /home/mox/Documents/coding_projects/personal_projects/ipod_recover_rename/After/Blotted Science/The Machinations of Dementia/Night Terror.m4a\n",
      "working on 16/580: XJGL.mp3\n"
     ]
    },
    {
     "ename": "TypeError",
     "evalue": "expected string or bytes-like object, got 'NoneType'",
     "output_type": "error",
     "traceback": [
      "\u001b[31m---------------------------------------------------------------------------\u001b[39m",
      "\u001b[31mTypeError\u001b[39m                                 Traceback (most recent call last)",
      "\u001b[36mCell\u001b[39m\u001b[36m \u001b[39m\u001b[32mIn[55]\u001b[39m\u001b[32m, line 5\u001b[39m\n\u001b[32m      3\u001b[39m \u001b[38;5;28;01mfor\u001b[39;00m file \u001b[38;5;129;01min\u001b[39;00m files:\n\u001b[32m      4\u001b[39m     \u001b[38;5;28mprint\u001b[39m(\u001b[33mf\u001b[39m\u001b[33m'\u001b[39m\u001b[33mworking on \u001b[39m\u001b[38;5;132;01m{\u001b[39;00mcount\u001b[38;5;132;01m}\u001b[39;00m\u001b[33m/\u001b[39m\u001b[38;5;132;01m{\u001b[39;00m\u001b[38;5;28mlen\u001b[39m(files)\u001b[38;5;132;01m}\u001b[39;00m\u001b[33m: \u001b[39m\u001b[38;5;132;01m{\u001b[39;00mfile\u001b[38;5;132;01m}\u001b[39;00m\u001b[33m'\u001b[39m)\n\u001b[32m----> \u001b[39m\u001b[32m5\u001b[39m     name_dict = \u001b[43mparse_metadata\u001b[49m\u001b[43m(\u001b[49m\u001b[43mfile\u001b[49m\u001b[43m)\u001b[49m\n\u001b[32m      6\u001b[39m     new = move_and_rename(file, name_dict)\n\u001b[32m      7\u001b[39m     \u001b[38;5;28mprint\u001b[39m(\u001b[33m'\u001b[39m\u001b[33mmoved and renamed to:\u001b[39m\u001b[33m'\u001b[39m, new)\n",
      "\u001b[36mCell\u001b[39m\u001b[36m \u001b[39m\u001b[32mIn[54]\u001b[39m\u001b[32m, line 8\u001b[39m, in \u001b[36mparse_metadata\u001b[39m\u001b[34m(f)\u001b[39m\n\u001b[32m      6\u001b[39m name_dict[\u001b[33m'\u001b[39m\u001b[33martist\u001b[39m\u001b[33m'\u001b[39m] = sanitize_string(file.artist)\n\u001b[32m      7\u001b[39m name_dict[\u001b[33m'\u001b[39m\u001b[33malbum\u001b[39m\u001b[33m'\u001b[39m] =  sanitize_string(file.album)\n\u001b[32m----> \u001b[39m\u001b[32m8\u001b[39m name_dict[\u001b[33m'\u001b[39m\u001b[33mtitle\u001b[39m\u001b[33m'\u001b[39m] = \u001b[43msanitize_string\u001b[49m\u001b[43m(\u001b[49m\u001b[43mfile\u001b[49m\u001b[43m.\u001b[49m\u001b[43mtitle\u001b[49m\u001b[43m)\u001b[49m\n\u001b[32m      9\u001b[39m name_dict[\u001b[33m'\u001b[39m\u001b[33mext\u001b[39m\u001b[33m'\u001b[39m] = file_path.suffix\n\u001b[32m     11\u001b[39m \u001b[38;5;28;01mreturn\u001b[39;00m name_dict\n",
      "\u001b[36mCell\u001b[39m\u001b[36m \u001b[39m\u001b[32mIn[51]\u001b[39m\u001b[32m, line 3\u001b[39m, in \u001b[36msanitize_string\u001b[39m\u001b[34m(file_dir_string)\u001b[39m\n\u001b[32m      1\u001b[39m \u001b[38;5;28;01mdef\u001b[39;00m\u001b[38;5;250m \u001b[39m\u001b[34msanitize_string\u001b[39m(file_dir_string):\n\u001b[32m      2\u001b[39m     pattern = \u001b[33mr\u001b[39m\u001b[33m'\u001b[39m\u001b[33m[/\u001b[39m\u001b[38;5;130;01m\\\\\u001b[39;00m\u001b[33m]\u001b[39m\u001b[33m'\u001b[39m\n\u001b[32m----> \u001b[39m\u001b[32m3\u001b[39m     \u001b[38;5;28;01mreturn\u001b[39;00m \u001b[43mre\u001b[49m\u001b[43m.\u001b[49m\u001b[43msub\u001b[49m\u001b[43m(\u001b[49m\u001b[43mpattern\u001b[49m\u001b[43m,\u001b[49m\u001b[43m \u001b[49m\u001b[33;43m\"\u001b[39;49m\u001b[33;43m_\u001b[39;49m\u001b[33;43m\"\u001b[39;49m\u001b[43m,\u001b[49m\u001b[43m \u001b[49m\u001b[43mfile_dir_string\u001b[49m\u001b[43m)\u001b[49m\n",
      "\u001b[36mFile \u001b[39m\u001b[32m/usr/lib/python3.12/re/__init__.py:186\u001b[39m, in \u001b[36msub\u001b[39m\u001b[34m(pattern, repl, string, count, flags)\u001b[39m\n\u001b[32m    179\u001b[39m \u001b[38;5;28;01mdef\u001b[39;00m\u001b[38;5;250m \u001b[39m\u001b[34msub\u001b[39m(pattern, repl, string, count=\u001b[32m0\u001b[39m, flags=\u001b[32m0\u001b[39m):\n\u001b[32m    180\u001b[39m \u001b[38;5;250m    \u001b[39m\u001b[33;03m\"\"\"Return the string obtained by replacing the leftmost\u001b[39;00m\n\u001b[32m    181\u001b[39m \u001b[33;03m    non-overlapping occurrences of the pattern in string by the\u001b[39;00m\n\u001b[32m    182\u001b[39m \u001b[33;03m    replacement repl.  repl can be either a string or a callable;\u001b[39;00m\n\u001b[32m    183\u001b[39m \u001b[33;03m    if a string, backslash escapes in it are processed.  If it is\u001b[39;00m\n\u001b[32m    184\u001b[39m \u001b[33;03m    a callable, it's passed the Match object and must return\u001b[39;00m\n\u001b[32m    185\u001b[39m \u001b[33;03m    a replacement string to be used.\"\"\"\u001b[39;00m\n\u001b[32m--> \u001b[39m\u001b[32m186\u001b[39m     \u001b[38;5;28;01mreturn\u001b[39;00m \u001b[43m_compile\u001b[49m\u001b[43m(\u001b[49m\u001b[43mpattern\u001b[49m\u001b[43m,\u001b[49m\u001b[43m \u001b[49m\u001b[43mflags\u001b[49m\u001b[43m)\u001b[49m\u001b[43m.\u001b[49m\u001b[43msub\u001b[49m\u001b[43m(\u001b[49m\u001b[43mrepl\u001b[49m\u001b[43m,\u001b[49m\u001b[43m \u001b[49m\u001b[43mstring\u001b[49m\u001b[43m,\u001b[49m\u001b[43m \u001b[49m\u001b[43mcount\u001b[49m\u001b[43m)\u001b[49m\n",
      "\u001b[31mTypeError\u001b[39m: expected string or bytes-like object, got 'NoneType'"
     ]
    }
   ],
   "source": [
    "files = os.listdir(after_path)\n",
    "count = 1\n",
    "for file in files:\n",
    "    print(f'working on {count}/{len(files)}: {file}')\n",
    "    name_dict = parse_metadata(file)\n",
    "    new = move_and_rename(file, name_dict)\n",
    "    print('moved and renamed to:', new)\n",
    "    count += 1\n",
    "    # TODO: Handle missing metadata"
   ]
  },
  {
   "cell_type": "markdown",
   "metadata": {},
   "source": [
    "TODO: \n",
    "\n",
    "1. rename files to artist_album_title.ext\n",
    "2. Add files to artist-album-song structure\n",
    "    1. walk file list and make [artist, album, title.ext]\n",
    "    2. check if artist-album folders exist, make them if DNE \n",
    "    3. rename to title.ext and move to appropriate folder tree"
   ]
  },
  {
   "cell_type": "code",
   "execution_count": null,
   "metadata": {},
   "outputs": [
    {
     "name": "stdout",
     "output_type": "stream",
     "text": [
      "False\n"
     ]
    },
    {
     "ename": "FileNotFoundError",
     "evalue": "[Errno 2] No such file or directory: '/home/mox/Documents/coding_projects/personal_projects/ipod_recover_rename/After/AC/DC'",
     "output_type": "error",
     "traceback": [
      "\u001b[31m---------------------------------------------------------------------------\u001b[39m",
      "\u001b[31mFileNotFoundError\u001b[39m                         Traceback (most recent call last)",
      "\u001b[36mCell\u001b[39m\u001b[36m \u001b[39m\u001b[32mIn[44]\u001b[39m\u001b[32m, line 4\u001b[39m\n\u001b[32m      2\u001b[39m path = os.path.join(after_path / folder)\n\u001b[32m      3\u001b[39m \u001b[38;5;28mprint\u001b[39m(os.path.isdir(path))\n\u001b[32m----> \u001b[39m\u001b[32m4\u001b[39m \u001b[43mos\u001b[49m\u001b[43m.\u001b[49m\u001b[43mmkdir\u001b[49m\u001b[43m(\u001b[49m\u001b[43mpath\u001b[49m\u001b[43m)\u001b[49m\n",
      "\u001b[31mFileNotFoundError\u001b[39m: [Errno 2] No such file or directory: '/home/mox/Documents/coding_projects/personal_projects/ipod_recover_rename/After/AC/DC'"
     ]
    }
   ],
   "source": [
    "folder = r'AC/DC'\n",
    "path = after_path / folder\n",
    "print(os.path.isdir(path))\n",
    "os.mkdir(path)"
   ]
  },
  {
   "cell_type": "code",
   "execution_count": null,
   "metadata": {},
   "outputs": [],
   "source": []
  }
 ],
 "metadata": {
  "kernelspec": {
   "display_name": ".venv",
   "language": "python",
   "name": "python3"
  },
  "language_info": {
   "codemirror_mode": {
    "name": "ipython",
    "version": 3
   },
   "file_extension": ".py",
   "mimetype": "text/x-python",
   "name": "python",
   "nbconvert_exporter": "python",
   "pygments_lexer": "ipython3",
   "version": "3.12.9"
  }
 },
 "nbformat": 4,
 "nbformat_minor": 2
}
