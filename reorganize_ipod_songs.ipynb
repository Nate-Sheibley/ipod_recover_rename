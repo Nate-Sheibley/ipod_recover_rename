{
 "cells": [
  {
   "cell_type": "code",
   "execution_count": 22,
   "metadata": {},
   "outputs": [
    {
     "name": "stdout",
     "output_type": "stream",
     "text": [
      "Requirement already satisfied: mutagen in ./.venv/lib/python3.12/site-packages (1.47.0)\n",
      "Requirement already satisfied: tinytag in ./.venv/lib/python3.12/site-packages (2.1.0)\n"
     ]
    }
   ],
   "source": [
    "!pip install mutagen tinytag"
   ]
  },
  {
   "cell_type": "code",
   "execution_count": 1,
   "metadata": {},
   "outputs": [],
   "source": [
    "import pathlib\n",
    "import os\n",
    "\n",
    "import mutagen as mg\n",
    "from mutagen.id3 import ID3\n",
    "import base64\n",
    "from mutagen.oggvorbis import OggVorbis\n",
    "\n",
    "from tinytag import TinyTag\n",
    "\n",
    "import itertools\n",
    "import shutil\n"
   ]
  },
  {
   "cell_type": "code",
   "execution_count": 2,
   "metadata": {},
   "outputs": [
    {
     "name": "stdout",
     "output_type": "stream",
     "text": [
      "Path is project root\n"
     ]
    }
   ],
   "source": [
    "cwd = pathlib.Path.cwd()\n",
    "\n",
    "if cwd.name == 'ipod_recover_rename':\n",
    "    print(\"Path is project root\")\n",
    "else:\n",
    "    print('Current Working Directory is:', cwd)\n",
    "    print(\"Recomend navigating to the project root in terminal and opening your chosen idea via the command 'code .'\")\n",
    "    raise NameError('Please correct current working directory to the project root')\n"
   ]
  },
  {
   "cell_type": "code",
   "execution_count": 3,
   "metadata": {},
   "outputs": [],
   "source": [
    "old_path = cwd / \"Music\"\n",
    "after_path = cwd / \"After\""
   ]
  },
  {
   "cell_type": "code",
   "execution_count": 4,
   "metadata": {},
   "outputs": [],
   "source": [
    "if not os.path.exists(after_path): \n",
    "    # if the After directory is not present  \n",
    "    # then create it. \n",
    "    os.makedirs(after_path) "
   ]
  },
  {
   "cell_type": "code",
   "execution_count": 5,
   "metadata": {},
   "outputs": [],
   "source": [
    "f_list = os.listdir(old_path)\n",
    "# copies music to after folder for processing of a copy of the music, ensuring no loss\n",
    "for file in f_list:\n",
    "    # prevents copying of the hidden files associated with ituns and ipods\n",
    "    if file.startswith('._'):\n",
    "        pass\n",
    "    else:\n",
    "        shutil.copytree(old_path / file, after_path / file)\n"
   ]
  },
  {
   "cell_type": "code",
   "execution_count": 6,
   "metadata": {},
   "outputs": [],
   "source": [
    "# https://stackoverflow.com/questions/17547273/flatten-complex-directory-structure-in-python\n",
    "#Move all files from music to (created) intermediary\n",
    "def move(destination):\n",
    "    all_files = []\n",
    "    first_loop_pass = True\n",
    "    for root, _dirs, files in os.walk(destination):\n",
    "        if first_loop_pass:\n",
    "            first_loop_pass = False\n",
    "            continue\n",
    "        for filename in files:\n",
    "            all_files.append(os.path.join(root, filename))\n",
    "    for filename in all_files:\n",
    "        shutil.move(filename, destination)"
   ]
  },
  {
   "cell_type": "code",
   "execution_count": 7,
   "metadata": {},
   "outputs": [],
   "source": [
    "move(after_path)"
   ]
  },
  {
   "cell_type": "code",
   "execution_count": 8,
   "metadata": {},
   "outputs": [],
   "source": [
    "walk = list(os.walk(after_path))\n",
    "for path, _, _ in walk[::]:\n",
    "    if len(os.listdir(path)) == 0:\n",
    "        # remove empty directories\n",
    "        os.removedirs(path)\n"
   ]
  },
  {
   "cell_type": "code",
   "execution_count": 9,
   "metadata": {},
   "outputs": [],
   "source": [
    "test_mp3 = after_path / 'CUYL.mp3'\n",
    "test_m4a = after_path / 'XWHW.m4a'\n",
    "test_m4p = after_path / 'DMZZ.m4p'\n",
    "test_flac = after_path / 'ASCS.flac'\n",
    "test_wav = after_path / 'GSDE.wav'\n",
    "test_wma = after_path / 'AFES.wma'\n",
    "\n",
    "test_files = [test_mp3, test_m4a, test_m4p, test_flac, test_wav, test_wma]"
   ]
  },
  {
   "cell_type": "code",
   "execution_count": 10,
   "metadata": {},
   "outputs": [],
   "source": [
    "def parse_metadata(f):\n",
    "    file_path = after_path / f\n",
    "    file = TinyTag.get(file_path)\n",
    "\n",
    "    name_dict = {'album':'', 'artist':'', 'title':'', 'ext': ''}\n",
    "    name_dict['artist'] = file.artist\n",
    "    name_dict['album'] =  file.album\n",
    "    name_dict['title'] = file.title\n",
    "    name_dict['ext'] = file_path.suffix\n",
    "\n",
    "    return name_dict\n",
    "\n"
   ]
  },
  {
   "cell_type": "code",
   "execution_count": 11,
   "metadata": {},
   "outputs": [],
   "source": [
    "def move_and_rename(file, name_dict):\n",
    "    # build folder and file paths\n",
    "    artist_path = after_path / name_dict['artist']\n",
    "    album_path = artist_path /  name_dict['album']\n",
    "    title = name_dict['title']\n",
    "    suffix = name_dict['ext']\n",
    "    # check if album-artist folder paths exist, if not make them.\n",
    "    # if artist folder DNE, make it\n",
    "    if not os.path.isdir(artist_path):\n",
    "        os.mkdir(artist_path)\n",
    "    # if album folder DNE, make it\n",
    "    if not os.path.isdir(album_path):\n",
    "        os.mkdir(album_path)\n",
    "    # move the song to the album-artist folder and rename it\n",
    "    shutil.move(after_path / file, album_path / f'{title}{suffix}')"
   ]
  },
  {
   "cell_type": "code",
   "execution_count": null,
   "metadata": {},
   "outputs": [
    {
     "name": "stdout",
     "output_type": "stream",
     "text": [
      "CUYL.mp3 attempted\n",
      "XWHW.m4a attempted\n",
      "DMZZ.m4p attempted\n",
      "ASCS.flac attempted\n",
      "GSDE.wav attempted\n",
      "AFES.wma attempted\n"
     ]
    }
   ],
   "source": [
    "for file in test_files:\n",
    "    name_dict = parse_metadata(file)\n",
    "    move_and_rename(file, name_dict)\n",
    "    print(file.name, 'attempted')\n",
    "    # TODO: Handle missing metadata"
   ]
  },
  {
   "cell_type": "markdown",
   "metadata": {},
   "source": [
    "TODO: \n",
    "\n",
    "1. rename files to artist_album_title.ext\n",
    "2. Add files to artist-album-song structure\n",
    "    1. walk file list and make [artist, album, title.ext]\n",
    "    2. check if artist-album folders exist, make them if DNE \n",
    "    3. rename to title.ext and move to appropriate folder tree"
   ]
  },
  {
   "cell_type": "code",
   "execution_count": null,
   "metadata": {},
   "outputs": [],
   "source": []
  },
  {
   "cell_type": "code",
   "execution_count": null,
   "metadata": {},
   "outputs": [
    {
     "data": {
      "text/plain": [
       "\"Let's Go\""
      ]
     },
     "execution_count": 40,
     "metadata": {},
     "output_type": "execute_result"
    }
   ],
   "source": []
  },
  {
   "cell_type": "code",
   "execution_count": null,
   "metadata": {},
   "outputs": [],
   "source": []
  }
 ],
 "metadata": {
  "kernelspec": {
   "display_name": ".venv",
   "language": "python",
   "name": "python3"
  },
  "language_info": {
   "codemirror_mode": {
    "name": "ipython",
    "version": 3
   },
   "file_extension": ".py",
   "mimetype": "text/x-python",
   "name": "python",
   "nbconvert_exporter": "python",
   "pygments_lexer": "ipython3",
   "version": "3.12.9"
  }
 },
 "nbformat": 4,
 "nbformat_minor": 2
}
