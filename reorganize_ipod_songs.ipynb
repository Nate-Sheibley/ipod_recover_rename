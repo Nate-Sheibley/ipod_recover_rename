{
 "cells": [
  {
   "cell_type": "code",
   "execution_count": 4,
   "metadata": {},
   "outputs": [
    {
     "name": "stdout",
     "output_type": "stream",
     "text": [
      "Collecting mutagen\n",
      "  Downloading mutagen-1.47.0-py3-none-any.whl.metadata (1.7 kB)\n",
      "Downloading mutagen-1.47.0-py3-none-any.whl (194 kB)\n",
      "Installing collected packages: mutagen\n",
      "Successfully installed mutagen-1.47.0\n"
     ]
    }
   ],
   "source": [
    "!pip install mutagen"
   ]
  },
  {
   "cell_type": "code",
   "execution_count": 7,
   "metadata": {},
   "outputs": [],
   "source": [
    "import pathlib\n",
    "import os\n",
    "import mutagen\n",
    "\n",
    "import itertools\n",
    "import shutil\n"
   ]
  },
  {
   "cell_type": "code",
   "execution_count": 3,
   "metadata": {},
   "outputs": [
    {
     "name": "stdout",
     "output_type": "stream",
     "text": [
      "Path is project root\n"
     ]
    }
   ],
   "source": [
    "cwd = pathlib.Path.cwd()\n",
    "\n",
    "if cwd.name == 'ipod_recover_rename':\n",
    "    print(\"Path is project root\")\n",
    "else:\n",
    "    print('Current Working Directory is:', cwd)\n",
    "    print(\"Recomend navigating to the project root in terminal and opening your chosen idea via the command 'code .'\")\n",
    "    raise NameError('Please correct current working directory to the project root')\n"
   ]
  },
  {
   "cell_type": "code",
   "execution_count": null,
   "metadata": {},
   "outputs": [],
   "source": [
    "# https://stackoverflow.com/questions/17547273/flatten-complex-directory-structure-in-python\n",
    "#Move all files from music to (created) intermediary\n",
    "def move(destination):\n",
    "    all_files = []\n",
    "    for root, _dirs, files in itertools.islice(os.walk(destination), 1, None):\n",
    "        for filename in files:\n",
    "            all_files.append(os.path.join(root, filename))\n",
    "    for filename in all_files:\n",
    "        shutil.move(filename, destination)"
   ]
  }
 ],
 "metadata": {
  "kernelspec": {
   "display_name": ".venv",
   "language": "python",
   "name": "python3"
  },
  "language_info": {
   "codemirror_mode": {
    "name": "ipython",
    "version": 3
   },
   "file_extension": ".py",
   "mimetype": "text/x-python",
   "name": "python",
   "nbconvert_exporter": "python",
   "pygments_lexer": "ipython3",
   "version": "3.12.9"
  }
 },
 "nbformat": 4,
 "nbformat_minor": 2
}
