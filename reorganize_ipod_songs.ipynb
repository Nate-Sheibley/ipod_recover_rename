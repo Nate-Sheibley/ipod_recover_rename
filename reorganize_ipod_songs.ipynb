{
 "cells": [
  {
   "cell_type": "code",
   "execution_count": 1,
   "metadata": {},
   "outputs": [
    {
     "name": "stdout",
     "output_type": "stream",
     "text": [
      "/home/mox/Documents/coding_projects/personal_projects/ipod_recover_rename/.venv/bin/pip: line 2: /home/mox/Documents/coding_projects/personal projects/ipod_recover_rename/.venv/bin/python: No such file or directory\n"
     ]
    }
   ],
   "source": [
    "!pip install mutagen"
   ]
  },
  {
   "cell_type": "code",
   "execution_count": 19,
   "metadata": {},
   "outputs": [],
   "source": [
    "import pathlib\n",
    "import os\n",
    "import mutagen as mg\n",
    "from mutagen.id3 import ID3, TIT2\n",
    "\n",
    "import itertools\n",
    "import shutil\n"
   ]
  },
  {
   "cell_type": "code",
   "execution_count": 3,
   "metadata": {},
   "outputs": [
    {
     "name": "stdout",
     "output_type": "stream",
     "text": [
      "Path is project root\n"
     ]
    }
   ],
   "source": [
    "cwd = pathlib.Path.cwd()\n",
    "\n",
    "if cwd.name == 'ipod_recover_rename':\n",
    "    print(\"Path is project root\")\n",
    "else:\n",
    "    print('Current Working Directory is:', cwd)\n",
    "    print(\"Recomend navigating to the project root in terminal and opening your chosen idea via the command 'code .'\")\n",
    "    raise NameError('Please correct current working directory to the project root')\n"
   ]
  },
  {
   "cell_type": "code",
   "execution_count": 4,
   "metadata": {},
   "outputs": [],
   "source": [
    "old_path = cwd / \"Music\"\n",
    "after_path = cwd / \"After\""
   ]
  },
  {
   "cell_type": "code",
   "execution_count": 5,
   "metadata": {},
   "outputs": [],
   "source": [
    "if not os.path.exists(after_path): \n",
    "    # if the After directory is not present  \n",
    "    # then create it. \n",
    "    os.makedirs(after_path) "
   ]
  },
  {
   "cell_type": "code",
   "execution_count": 6,
   "metadata": {},
   "outputs": [],
   "source": [
    "f_list = os.listdir(old_path)\n",
    "# copies music to after folder for processing of a copy of the music, ensuring no loss\n",
    "for file in f_list:\n",
    "    # prevents copying of the hidden files associated with ituns and ipods\n",
    "    if file.startswith('._'):\n",
    "        pass\n",
    "    else:\n",
    "        shutil.copytree(old_path / file, after_path / file)\n"
   ]
  },
  {
   "cell_type": "code",
   "execution_count": 7,
   "metadata": {},
   "outputs": [],
   "source": [
    "# https://stackoverflow.com/questions/17547273/flatten-complex-directory-structure-in-python\n",
    "#Move all files from music to (created) intermediary\n",
    "def move(destination):\n",
    "    all_files = []\n",
    "    first_loop_pass = True\n",
    "    for root, _dirs, files in os.walk(destination):\n",
    "        if first_loop_pass:\n",
    "            first_loop_pass = False\n",
    "            continue\n",
    "        for filename in files:\n",
    "            all_files.append(os.path.join(root, filename))\n",
    "    for filename in all_files:\n",
    "        shutil.move(filename, destination)"
   ]
  },
  {
   "cell_type": "code",
   "execution_count": 8,
   "metadata": {},
   "outputs": [],
   "source": [
    "move(after_path)"
   ]
  },
  {
   "cell_type": "code",
   "execution_count": 9,
   "metadata": {},
   "outputs": [],
   "source": [
    "walk = list(os.walk(after_path))\n",
    "for path, _, _ in walk[::]:\n",
    "    if len(os.listdir(path)) == 0:\n",
    "        # remove empty directories\n",
    "        os.removedirs(path)\n"
   ]
  },
  {
   "cell_type": "code",
   "execution_count": null,
   "metadata": {},
   "outputs": [],
   "source": [
    "test_mp3 = after_path / 'CUYL.mp3'\n",
    "test_m4a = after_path / 'XWHW.m4a'\n",
    "test_m4p = after_path / 'DMZZ.m4p'\n",
    "test_flac = after_path / 'ASCS.flac'\n",
    "test_wav = after_path / 'GSDE.wav'\n",
    "test_wma = after_path / 'AFES.wma'\n",
    "\n",
    "test_files = [test_mp3, test_m4a, test_m4p, test_flac, test_wav, test_wma]"
   ]
  },
  {
   "cell_type": "code",
   "execution_count": null,
   "metadata": {},
   "outputs": [],
   "source": [
    "# List all file types for appropriate parsing\n",
    "compatible_types = {\n",
    "    'id3': ('.mp3', '.wav'),\n",
    "    'other': ('.m4a', '.m4p', '.wma', '.flac')\n",
    "    #TODO: add support for other using mugagen tag readers schemes\n",
    "}\n",
    "\n",
    "def get_rename_dict(file):\n",
    "    file_ext = file.suffix\n",
    "    #handle ID3 compatible filetypes\n",
    "    if file_ext in compatible_types['id3']:\n",
    "        file_path = after_path / file\n",
    "        audio_file = mg.File(file_path)\n",
    "        return {'artist':audio_file['TPE1'].text[0],\n",
    "                'album':audio_file['TALB'].text[0],\n",
    "                'title':audio_file['TIT2'].text[0]}\n",
    "    #TODO add suport for others in compatible types dict\n",
    "    "
   ]
  },
  {
   "cell_type": "code",
   "execution_count": null,
   "metadata": {},
   "outputs": [
    {
     "name": "stdout",
     "output_type": "stream",
     "text": [
      "{'artist': 'Devin the Dude', 'album': \"Just Tryin' Ta Live\", 'title': \"It's A Shame (feat. Poo Bear)\"}\n",
      "None\n",
      "None\n",
      "ASCS.flac did not work .flac is unsupported\n",
      "{'artist': 'Masatoshi Yanagi', 'album': 'Hi-Fi RUSH B-Sides', 'title': 'Arcade! Challenge!'}\n",
      "None\n"
     ]
    }
   ],
   "source": [
    "for file in test_files:\n",
    "    try:\n",
    "        name_dict = get_rename_dict(file) \n",
    "        new_name_string = f'{name_dict['artist']}_{name_dict['album']}_{}'\n",
    "    except:\n",
    "        print(file.name, \"did not work\", file.suffix, \"is unsupported\")"
   ]
  },
  {
   "cell_type": "markdown",
   "metadata": {},
   "source": [
    "TODO: \n",
    "    1. rename files to artist_album_title.ext\n",
    "    2. Add files to artist-album-song structure\n",
    "       1. walk file list and make [artist, album, title.ext]\n",
    "       2. check if artist-album folders exist, make them if DNE \n",
    "       3. rename to title.ext and move to appropriate folder tree"
   ]
  },
  {
   "cell_type": "code",
   "execution_count": 40,
   "metadata": {},
   "outputs": [
    {
     "data": {
      "text/plain": [
       "{'artist': ['The Devil Makes Three'],\n",
       " 'album': TALB(encoding=<Encoding.LATIN1: 0>, text=['The Devil Makes Three']),\n",
       " 'title': TIT2(encoding=<Encoding.LATIN1: 0>, text=['Graveyard'])}"
      ]
     },
     "execution_count": 40,
     "metadata": {},
     "output_type": "execute_result"
    }
   ],
   "source": [
    "get_rename_dict(test_mp3)"
   ]
  },
  {
   "cell_type": "code",
   "execution_count": 77,
   "metadata": {},
   "outputs": [
    {
     "data": {
      "text/plain": [
       "PosixPath(\"/home/mox/Documents/coding_projects/personal_projects/ipod_recover_rename/After/Devin the Dude/Just Tryin' Ta Live/It's A Shame (feat. Poo Bear)\")"
      ]
     },
     "execution_count": 77,
     "metadata": {},
     "output_type": "execute_result"
    }
   ],
   "source": [
    "file = 'tree_test.mp3'\n",
    "\n",
    "name_dict = get_rename_dict(after_path / file) \n",
    "artist = name_dict['artist']\n",
    "artist_path = after_path / artist\n",
    "album = name_dict['album']\n",
    "album_path = artist_path / album\n",
    "title = name_dict['title']\n",
    "# if artist folder DNE, make it\n",
    "if not os.path.isdir(artist_path):\n",
    "    os.mkdir(artist_path)\n",
    "# if album folder DNE, make it\n",
    "if not os.path.isdir(album_path):\n",
    "    os.mkdir(album_path)\n",
    "\n",
    "shutil.copy(after_path / 'tree_test.mp3', after_path / artist / album / title)\n"
   ]
  },
  {
   "cell_type": "code",
   "execution_count": null,
   "metadata": {},
   "outputs": [],
   "source": []
  }
 ],
 "metadata": {
  "kernelspec": {
   "display_name": ".venv",
   "language": "python",
   "name": "python3"
  },
  "language_info": {
   "codemirror_mode": {
    "name": "ipython",
    "version": 3
   },
   "file_extension": ".py",
   "mimetype": "text/x-python",
   "name": "python",
   "nbconvert_exporter": "python",
   "pygments_lexer": "ipython3",
   "version": "3.12.9"
  }
 },
 "nbformat": 4,
 "nbformat_minor": 2
}
